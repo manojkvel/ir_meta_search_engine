{
 "cells": [
  {
   "cell_type": "code",
   "execution_count": 1,
   "metadata": {},
   "outputs": [
    {
     "name": "stdout",
     "output_type": "stream",
     "text": [
      "Requirement already satisfied: flask in /anaconda3/lib/python3.7/site-packages (1.1.1)\n",
      "Requirement already satisfied: itsdangerous>=0.24 in /anaconda3/lib/python3.7/site-packages (from flask) (1.1.0)\n",
      "Requirement already satisfied: Jinja2>=2.10.1 in /anaconda3/lib/python3.7/site-packages (from flask) (2.10.1)\n",
      "Requirement already satisfied: Werkzeug>=0.15 in /anaconda3/lib/python3.7/site-packages (from flask) (0.15.4)\n",
      "Requirement already satisfied: click>=5.1 in /anaconda3/lib/python3.7/site-packages (from flask) (7.0)\n",
      "Requirement already satisfied: MarkupSafe>=0.23 in /anaconda3/lib/python3.7/site-packages (from Jinja2>=2.10.1->flask) (1.1.1)\n"
     ]
    }
   ],
   "source": [
    "!pip install flask"
   ]
  },
  {
   "cell_type": "code",
   "execution_count": 20,
   "metadata": {},
   "outputs": [
    {
     "name": "stdout",
     "output_type": "stream",
     "text": [
      "Collecting google\n",
      "\u001b[?25l  Downloading https://files.pythonhosted.org/packages/81/51/36af1d18648574d13d8f43e863e95a97fe6f43d54a13fbcf272c638c10e9/google-2.0.3-py2.py3-none-any.whl (45kB)\n",
      "\u001b[K     |████████████████████████████████| 51kB 618kB/s eta 0:00:01\n",
      "\u001b[?25hRequirement already satisfied: beautifulsoup4 in /anaconda3/lib/python3.7/site-packages (from google) (4.7.1)\n",
      "Requirement already satisfied: soupsieve>=1.2 in /anaconda3/lib/python3.7/site-packages (from beautifulsoup4->google) (1.8)\n",
      "Installing collected packages: google\n",
      "Successfully installed google-2.0.3\n"
     ]
    }
   ],
   "source": [
    "!pip install google"
   ]
  },
  {
   "cell_type": "code",
   "execution_count": null,
   "metadata": {
    "scrolled": false
   },
   "outputs": [
    {
     "name": "stdout",
     "output_type": "stream",
     "text": [
      " * Serving Flask app \"temp\" (lazy loading)\n",
      " * Environment: production\n",
      "\u001b[31m   WARNING: This is a development server. Do not use it in a production deployment.\u001b[0m\n",
      "\u001b[2m   Use a production WSGI server instead.\u001b[0m\n",
      " * Debug mode: off\n",
      " * Running on http://127.0.0.1:5000/ (Press CTRL+C to quit)\n",
      "https://www.apple.com/in/\n",
      "Title: None\n",
      "Snippet: None\n",
      "https://en.wikipedia.org/wiki/Apple_Inc.\n",
      "Title: None\n",
      "Snippet: None\n",
      "https://www.youtube.com/user/Apple\n",
      "Title: None\n",
      "Snippet: None\n",
      "https://www.forbes.com/sites/ewanspence/2020/05/02/apple-macbook-pro-intel-ryzen-new-leak-rumor-specs-release-date/\n",
      "Title: None\n",
      "Snippet: None\n",
      "https://www.infoq.com/news/2020/05/google-apple-exposure-covid-api/\n",
      "Title: None\n",
      "Snippet: None\n",
      "https://www.forbes.com/sites/davidphelan/2020/05/03/samsung-confirms-cool-galaxy-watch-feature-that-outdoes-apple-but-theres-a-catch/\n",
      "Title: None\n",
      "Snippet: None\n",
      "http://t1.gstatic.com/images?q=tbn:ANd9GcSjoU2lZ2eJX3aCMfiFDt39uRNcDu9W7pTKcyZymE2iKa7IOVaI\n",
      "Some characters could not be decoded, and were replaced with REPLACEMENT CHARACTER.\n",
      "Title: None\n",
      "Snippet: None\n",
      "https://twitter.com/apple?lang=en\n",
      "Title: None\n",
      "Snippet: None\n",
      "https://www.amazon.in/stores/Apple/Homepage/page/88D59F86-9161-4804-A524-0A5B39CD714A\n",
      "Title: None\n",
      "Snippet: None\n",
      "https://www.forbes.com/companies/apple/\n",
      "Title: None\n",
      "Snippet: None\n",
      "https://www.forbes.com/sites/gordonkelly/2020/05/02/apple-iphone-12-design-release-cameras-notch-touch-id-upgrade-iphone-11-pro-max/\n",
      "Title: None\n",
      "Snippet: None\n",
      "https://www.theverge.com/apple\n",
      "Title: None\n",
      "Snippet: None\n",
      "https://www.cnet.com/apple/\n",
      "Title: None\n",
      "Snippet: None\n",
      "https://www.facebook.com/apple/\n",
      "Title: None\n",
      "Snippet: None\n",
      "https://yourstory.com/2020/05/apple-airpods-true-wireless-alternative-earbuds-10k-price\n",
      "Title: None\n",
      "Snippet: None\n",
      "https://www.instagram.com/apple/?hl=en\n",
      "Title: None\n",
      "Snippet: None\n",
      "https://www.macrumors.com/\n",
      "[2020-05-04 00:46:04,177] ERROR in app: Exception on /google [GET]\n",
      "Traceback (most recent call last):\n",
      "  File \"//anaconda3/lib/python3.7/site-packages/flask/app.py\", line 2446, in wsgi_app\n",
      "    response = self.full_dispatch_request()\n",
      "  File \"//anaconda3/lib/python3.7/site-packages/flask/app.py\", line 1951, in full_dispatch_request\n",
      "    rv = self.handle_user_exception(e)\n",
      "  File \"//anaconda3/lib/python3.7/site-packages/flask/app.py\", line 1820, in handle_user_exception\n",
      "    reraise(exc_type, exc_value, tb)\n",
      "  File \"//anaconda3/lib/python3.7/site-packages/flask/_compat.py\", line 39, in reraise\n",
      "    raise value\n",
      "  File \"//anaconda3/lib/python3.7/site-packages/flask/app.py\", line 1949, in full_dispatch_request\n",
      "    rv = self.dispatch_request()\n",
      "  File \"//anaconda3/lib/python3.7/site-packages/flask/app.py\", line 1935, in dispatch_request\n",
      "    return self.view_functions[rule.endpoint](**req.view_args)\n",
      "  File \"temp.py\", line 56, in google\n",
      "    google_scrape(i)\n",
      "  File \"temp.py\", line 16, in google_scrape\n",
      "    thepage = urllib.request.urlopen(url)\n",
      "  File \"//anaconda3/lib/python3.7/urllib/request.py\", line 222, in urlopen\n",
      "    return opener.open(url, data, timeout)\n",
      "  File \"//anaconda3/lib/python3.7/urllib/request.py\", line 531, in open\n",
      "    response = meth(req, response)\n",
      "  File \"//anaconda3/lib/python3.7/urllib/request.py\", line 641, in http_response\n",
      "    'http', request, response, code, msg, hdrs)\n",
      "  File \"//anaconda3/lib/python3.7/urllib/request.py\", line 569, in error\n",
      "    return self._call_chain(*args)\n",
      "  File \"//anaconda3/lib/python3.7/urllib/request.py\", line 503, in _call_chain\n",
      "    result = func(*args)\n",
      "  File \"//anaconda3/lib/python3.7/urllib/request.py\", line 649, in http_error_default\n",
      "    raise HTTPError(req.full_url, code, msg, hdrs, fp)\n",
      "urllib.error.HTTPError: HTTP Error 403: Forbidden\n",
      "127.0.0.1 - - [04/May/2020 00:46:04] \"\u001b[1m\u001b[35mGET /google HTTP/1.1\u001b[0m\" 500 -\n"
     ]
    }
   ],
   "source": [
    "!python temp.py"
   ]
  },
  {
   "cell_type": "code",
   "execution_count": null,
   "metadata": {},
   "outputs": [],
   "source": []
  },
  {
   "cell_type": "code",
   "execution_count": null,
   "metadata": {},
   "outputs": [],
   "source": []
  }
 ],
 "metadata": {
  "kernelspec": {
   "display_name": "Python 3",
   "language": "python",
   "name": "python3"
  },
  "language_info": {
   "codemirror_mode": {
    "name": "ipython",
    "version": 3
   },
   "file_extension": ".py",
   "mimetype": "text/x-python",
   "name": "python",
   "nbconvert_exporter": "python",
   "pygments_lexer": "ipython3",
   "version": "3.7.3"
  }
 },
 "nbformat": 4,
 "nbformat_minor": 2
}
